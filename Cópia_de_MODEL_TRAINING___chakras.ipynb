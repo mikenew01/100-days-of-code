{
  "nbformat": 4,
  "nbformat_minor": 0,
  "metadata": {
    "colab": {
      "provenance": [],
      "include_colab_link": true
    },
    "kernelspec": {
      "name": "python3",
      "display_name": "Python 3"
    },
    "language_info": {
      "name": "python"
    },
    "accelerator": "GPU",
    "gpuClass": "standard"
  },
  "cells": [
    {
      "cell_type": "markdown",
      "metadata": {
        "id": "view-in-github",
        "colab_type": "text"
      },
      "source": [
        "<a href=\"https://colab.research.google.com/github/mikenew01/100-days-of-code/blob/master/C%C3%B3pia_de_MODEL_TRAINING___chakras.ipynb\" target=\"_parent\"><img src=\"https://colab.research.google.com/assets/colab-badge.svg\" alt=\"Open In Colab\"/></a>"
      ]
    },
    {
      "cell_type": "markdown",
      "source": [
        "#**TRAIN NEW MODEL**"
      ],
      "metadata": {
        "id": "kU7LUSU5rY6V"
      }
    },
    {
      "cell_type": "code",
      "source": [
        "#@title [1]Verify GPU is connected\n",
        "!nvidia-smi"
      ],
      "metadata": {
        "id": "g7o4_4zL5pAs",
        "cellView": "form"
      },
      "execution_count": null,
      "outputs": []
    },
    {
      "cell_type": "code",
      "source": [
        "#@title [2] Installs dependencies (You can ignore errors here..)\n",
        "!python -m pip install -U pip wheel\n",
        "%pip install -U ipython\n",
        "%pip install -U git+https://github.com/34j/so-vits-svc-fork@9c8df717ae433fe3f3e2ef6ee49a1a165c66cf03\n",
        "%pip install mega.py\n",
        "\n",
        "%cd /content\n",
        "!rm -r sample_data\n",
        "!mkdir dataset_raw"
      ],
      "metadata": {
        "id": "afk8ZP8I5rBr",
        "cellView": "form"
      },
      "execution_count": null,
      "outputs": []
    },
    {
      "cell_type": "code",
      "source": [
        "#@title [3] Download dataset from google drive\n",
        "#@markdown **Enter Google Drive link to dataset\"\n",
        "import os\n",
        "import gdown\n",
        "\n",
        "!pip install gdown\n",
        "\n",
        "%cd /content\n",
        "os.chdir(\"/content\")\n",
        "\n",
        "name = \"trainingdata\"\n",
        "google_drive_link = \"drive_link_to_dataset\"  #@param {type: \"string\"}\n",
        "destination_filename = name + \".zip\"\n",
        "\n",
        "# Extract the file ID from the Google Drive link\n",
        "file_id = google_drive_link.split(\"id=\")[-1] if \"id=\" in google_drive_link else google_drive_link.split(\"/\")[-2]\n",
        "# Construct the direct download link\n",
        "url = f\"https://drive.google.com/uc?id={file_id}\"\n",
        "# Download the file using gdown\n",
        "gdown.download(url, destination_filename, quiet=False)\n",
        "\n",
        "files_before = os.listdir()\n",
        "!unzip \"trainingdata.zip\"\n",
        "files_after = os.listdir()\n",
        "new_file = list(set(files_after) - set(files_before))[0]\n",
        "\n",
        "!rm {destination_filename}\n",
        "\n",
        "!mv {new_file} dataset_raw"
      ],
      "metadata": {
        "cellView": "form",
        "id": "HLXQ0LxrsFQ_"
      },
      "execution_count": null,
      "outputs": []
    },
    {
      "cell_type": "code",
      "source": [
        "#@title [4] Automatic preprocessing\n",
        "\n",
        "!svc pre-resample\n",
        "!svc pre-config\n",
        "!svc pre-hubert\n",
        "!rm -r /content/dataset_raw"
      ],
      "metadata": {
        "id": "2xUptoca6OjV",
        "cellView": "form"
      },
      "execution_count": null,
      "outputs": []
    },
    {
      "cell_type": "code",
      "source": [
        "#@title [OPTIONAL] Run this to import previous model to continue training\n",
        "#@markdown **Enter Google Drive link to previously saved model**\n",
        "import os\n",
        "import gdown\n",
        "\n",
        "!pip install gdown\n",
        "\n",
        "%cd /content\n",
        "os.chdir(\"/content\")\n",
        "\n",
        "name = \"model\"\n",
        "google_drive_link = \"drive_link_to_saved_model\"  #@param {type: \"string\"}\n",
        "destination_filename = name + \".zip\"\n",
        "\n",
        "# Extract the file ID from the Google Drive link\n",
        "file_id = google_drive_link.split(\"id=\")[-1] if \"id=\" in google_drive_link else google_drive_link.split(\"/\")[-2]\n",
        "# Construct the direct download link\n",
        "url = f\"https://drive.google.com/uc?id={file_id}\"\n",
        "# Download the file using gdown\n",
        "gdown.download(url, destination_filename, quiet=False)\n",
        "\n",
        "files_before = os.listdir()\n",
        "!unzip \"model.zip\"\n",
        "files_after = os.listdir()\n",
        "new_file = list(set(files_after) - set(files_before))[0]\n",
        "\n",
        "!rm model.zip\n",
        "!mkdir -p logs/44k\n",
        "!cp -f {new_file}/config.json configs/44k\n",
        "!mv -f {new_file}/config.json logs/44k\n",
        "!mv {new_file}/*.pth logs/44k/\n",
        "!rm -r {new_file}\n"
      ],
      "metadata": {
        "cellView": "form",
        "id": "eQQTpzSYLaiE"
      },
      "execution_count": null,
      "outputs": []
    },
    {
      "cell_type": "code",
      "source": [
        "#@title [5] Train Model\n",
        "!svc train"
      ],
      "metadata": {
        "id": "mhu36umr6UQt",
        "cellView": "form"
      },
      "execution_count": null,
      "outputs": []
    },
    {
      "cell_type": "code",
      "source": [
        "#@title [6] Save your model to Google Drive\n",
        "\n",
        "import os\n",
        "import shutil\n",
        "\n",
        "from google.colab import drive\n",
        "drive.mount(\"/content/drive/\")\n",
        "\n",
        "\n",
        "model_name = \"save_file_name\" #@param {type: \"string\"}\n",
        "!mkdir {model_name}\n",
        "\n",
        "# Set your source and destination directories\n",
        "source_dir = \"/content/logs/44k/\"\n",
        "destination_dir = \"/content\"\n",
        "\n",
        "# List all files in the source directory\n",
        "files = os.listdir(source_dir)\n",
        "\n",
        "# Filter files starting with 'G_' and 'D_'\n",
        "g_files = [f for f in files if f.startswith(\"G_\")]\n",
        "d_files = [f for f in files if f.startswith(\"D_\")]\n",
        "\n",
        "# Find the highest numbered G_ and D_ files\n",
        "g_max = max(g_files, key=lambda x: int(x.split(\"_\")[-1].split(\".\")[0]))\n",
        "d_max = max(d_files, key=lambda x: int(x.split(\"_\")[-1].split(\".\")[0]))\n",
        "\n",
        "# Copy the files to the destination directory\n",
        "shutil.copy(os.path.join(source_dir, g_max), os.path.join(destination_dir, g_max))\n",
        "shutil.copy(os.path.join(source_dir, d_max), os.path.join(destination_dir, d_max))\n",
        "\n",
        "!mv *.pth {model_name}\n",
        "!cp logs/44k/config.json {model_name}\n",
        "\n",
        "!zip -r \"{model_name}.zip\" {model_name}\n",
        "\n",
        "!cp \"{model_name}.zip\" drive/MyDrive"
      ],
      "metadata": {
        "cellView": "form",
        "id": "GPvE9UP7oA0w"
      },
      "execution_count": null,
      "outputs": []
    }
  ]
}